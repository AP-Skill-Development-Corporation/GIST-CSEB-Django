{
 "cells": [
  {
   "cell_type": "markdown",
   "id": "5bb4bdb6",
   "metadata": {},
   "source": [
    "## Python Basics"
   ]
  },
  {
   "cell_type": "markdown",
   "id": "ad12764e",
   "metadata": {},
   "source": [
    "### Variables:\n",
    "    - To Store a value\n",
    "    - To Change a value\n",
    "    Syntax:\n",
    "        variablename = value "
   ]
  },
  {
   "cell_type": "code",
   "execution_count": 1,
   "id": "113e1417",
   "metadata": {},
   "outputs": [
    {
     "data": {
      "text/plain": [
       "10"
      ]
     },
     "execution_count": 1,
     "metadata": {},
     "output_type": "execute_result"
    }
   ],
   "source": [
    "a = 10\n",
    "a"
   ]
  },
  {
   "cell_type": "code",
   "execution_count": 3,
   "id": "f26afde9",
   "metadata": {},
   "outputs": [
    {
     "name": "stdout",
     "output_type": "stream",
     "text": [
      "56.00\n"
     ]
    }
   ],
   "source": [
    "b = '56.00'\n",
    "print(b)"
   ]
  },
  {
   "cell_type": "code",
   "execution_count": 4,
   "id": "9a3c3aa4",
   "metadata": {},
   "outputs": [
    {
     "name": "stdout",
     "output_type": "stream",
     "text": [
      "10 56.0 False\n"
     ]
    }
   ],
   "source": [
    "g,n,k = 10,56.00,False\n",
    "print(g,n,k)"
   ]
  },
  {
   "cell_type": "code",
   "execution_count": 5,
   "id": "4272e125",
   "metadata": {},
   "outputs": [
    {
     "name": "stdout",
     "output_type": "stream",
     "text": [
      "100 100 100\n"
     ]
    }
   ],
   "source": [
    "p = q = r = 100\n",
    "print(p,q,r)"
   ]
  },
  {
   "cell_type": "markdown",
   "id": "8c018f23",
   "metadata": {},
   "source": [
    "## Data types:\n",
    "    - int\n",
    "    - float\n",
    "    - boolean\n",
    "    - complex\n",
    "    - string\n",
    "    - none\n",
    "    - All Data Structures like [List,tuple,set and dictionary]"
   ]
  },
  {
   "cell_type": "code",
   "execution_count": 6,
   "id": "98c702df",
   "metadata": {},
   "outputs": [
    {
     "name": "stdout",
     "output_type": "stream",
     "text": [
      "<class 'int'>\n"
     ]
    }
   ],
   "source": [
    "a = 10\n",
    "print(type(a))"
   ]
  },
  {
   "cell_type": "code",
   "execution_count": 7,
   "id": "1207f408",
   "metadata": {},
   "outputs": [
    {
     "name": "stdout",
     "output_type": "stream",
     "text": [
      "<class 'list'>\n"
     ]
    }
   ],
   "source": [
    "m = [10,45.8645,'Prasad',False]\n",
    "print(type(m))"
   ]
  },
  {
   "cell_type": "code",
   "execution_count": 12,
   "id": "e7ceb190",
   "metadata": {},
   "outputs": [
    {
     "name": "stdout",
     "output_type": "stream",
     "text": [
      "20\n",
      "110\n",
      "4\n",
      "126\n"
     ]
    }
   ],
   "source": [
    "a,b = 110,20\n",
    "print(a and b)\n",
    "print(a or b)\n",
    "print(a & b)\n",
    "print(a | b)"
   ]
  },
  {
   "cell_type": "code",
   "execution_count": null,
   "id": "8e2aabc4",
   "metadata": {},
   "outputs": [],
   "source": []
  }
 ],
 "metadata": {
  "kernelspec": {
   "display_name": "Python 3 (ipykernel)",
   "language": "python",
   "name": "python3"
  },
  "language_info": {
   "codemirror_mode": {
    "name": "ipython",
    "version": 3
   },
   "file_extension": ".py",
   "mimetype": "text/x-python",
   "name": "python",
   "nbconvert_exporter": "python",
   "pygments_lexer": "ipython3",
   "version": "3.9.13"
  }
 },
 "nbformat": 4,
 "nbformat_minor": 5
}
