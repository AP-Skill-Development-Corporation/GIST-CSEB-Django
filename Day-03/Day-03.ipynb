{
 "cells": [
  {
   "cell_type": "markdown",
   "id": "59aefef5",
   "metadata": {},
   "source": [
    "## Default argument:"
   ]
  },
  {
   "cell_type": "code",
   "execution_count": 7,
   "id": "f3702abf",
   "metadata": {},
   "outputs": [
    {
     "ename": "SyntaxError",
     "evalue": "non-default argument follows default argument (1859599831.py, line 1)",
     "output_type": "error",
     "traceback": [
      "\u001b[1;36m  Cell \u001b[1;32mIn[7], line 1\u001b[1;36m\u001b[0m\n\u001b[1;33m    def su(h=45,m,k=20):\u001b[0m\n\u001b[1;37m                  ^\u001b[0m\n\u001b[1;31mSyntaxError\u001b[0m\u001b[1;31m:\u001b[0m non-default argument follows default argument\n"
     ]
    }
   ],
   "source": [
    "def su(h=45,m,k=20):\n",
    "    print(\"Given number are: {} {} {}\".format(k,m,h))\n",
    "    return \n",
    "\n",
    "n = int(input())\n",
    "su(n)\n",
    "# su()"
   ]
  },
  {
   "cell_type": "code",
   "execution_count": 10,
   "id": "9cc5d01b",
   "metadata": {},
   "outputs": [
    {
     "name": "stdout",
     "output_type": "stream",
     "text": [
      "student name abc and age 20\n"
     ]
    }
   ],
   "source": [
    "def student(name,age=20):\n",
    "    print(\"student name {} and age {}\".format(name,age))\n",
    "student('abc')"
   ]
  },
  {
   "cell_type": "code",
   "execution_count": 13,
   "id": "56ecf14c",
   "metadata": {},
   "outputs": [
    {
     "ename": "TypeError",
     "evalue": "de() got an unexpected keyword argument 'k'",
     "output_type": "error",
     "traceback": [
      "\u001b[1;31m---------------------------------------------------------------------------\u001b[0m",
      "\u001b[1;31mTypeError\u001b[0m                                 Traceback (most recent call last)",
      "Cell \u001b[1;32mIn[13], line 5\u001b[0m\n\u001b[0;32m      2\u001b[0m     \u001b[38;5;28mprint\u001b[39m(\u001b[38;5;124m\"\u001b[39m\u001b[38;5;124mGiven values are: \u001b[39m\u001b[38;5;132;01m{}\u001b[39;00m\u001b[38;5;124m \u001b[39m\u001b[38;5;132;01m{}\u001b[39;00m\u001b[38;5;124m \u001b[39m\u001b[38;5;132;01m{}\u001b[39;00m\u001b[38;5;124m \u001b[39m\u001b[38;5;132;01m{}\u001b[39;00m\u001b[38;5;124m\"\u001b[39m\u001b[38;5;241m.\u001b[39mformat(k,a,c,g))\n\u001b[0;32m      3\u001b[0m     \u001b[38;5;28;01mreturn\u001b[39;00m\n\u001b[1;32m----> 5\u001b[0m \u001b[43mde\u001b[49m\u001b[43m(\u001b[49m\u001b[43mk\u001b[49m\u001b[38;5;241;43m=\u001b[39;49m\u001b[38;5;124;43m'\u001b[39;49m\u001b[38;5;124;43m1230\u001b[39;49m\u001b[38;5;124;43m'\u001b[39;49m\u001b[43m,\u001b[49m\u001b[43ma\u001b[49m\u001b[38;5;241;43m=\u001b[39;49m\u001b[38;5;241;43m20\u001b[39;49m\u001b[43m,\u001b[49m\u001b[43mc\u001b[49m\u001b[38;5;241;43m=\u001b[39;49m\u001b[38;5;124;43m'\u001b[39;49m\u001b[38;5;124;43mRamesh\u001b[39;49m\u001b[38;5;124;43m'\u001b[39;49m\u001b[43m)\u001b[49m\n",
      "\u001b[1;31mTypeError\u001b[0m: de() got an unexpected keyword argument 'k'"
     ]
    }
   ],
   "source": [
    "def de(c,a,n,g=78):\n",
    "    print(\"Given values are: {} {} {} {}\".format(k,a,c,g))\n",
    "    return\n",
    "\n",
    "de(k='1230',a=20,c='Ramesh')"
   ]
  },
  {
   "cell_type": "code",
   "execution_count": 16,
   "id": "3a06d74c",
   "metadata": {},
   "outputs": [
    {
     "name": "stdout",
     "output_type": "stream",
     "text": [
      "Given values are: 20 30\n"
     ]
    }
   ],
   "source": [
    "def qw(a,b=30):\n",
    "    print(\"Given values are: {} {}\".format(a,b))\n",
    "    return\n",
    "qw(20)"
   ]
  },
  {
   "cell_type": "code",
   "execution_count": 26,
   "id": "86da8577",
   "metadata": {},
   "outputs": [
    {
     "ename": "SyntaxError",
     "evalue": "positional argument follows keyword argument (1443869362.py, line 5)",
     "output_type": "error",
     "traceback": [
      "\u001b[1;36m  Cell \u001b[1;32mIn[26], line 5\u001b[1;36m\u001b[0m\n\u001b[1;33m    yp(23,45,78,s=40,96,85,78,n=78,b=56,z=8)\u001b[0m\n\u001b[1;37m                                           ^\u001b[0m\n\u001b[1;31mSyntaxError\u001b[0m\u001b[1;31m:\u001b[0m positional argument follows keyword argument\n"
     ]
    }
   ],
   "source": [
    "def yp(q,*a,**e):\n",
    "    print(\"Given value is: {} {} {}\".format(q,a,e))\n",
    "    return\n",
    "\n",
    "yp(23,45,78,s=40,96,85,78,n=78,b=56,z=8)"
   ]
  },
  {
   "cell_type": "code",
   "execution_count": null,
   "id": "eb82e42a",
   "metadata": {},
   "outputs": [],
   "source": []
  }
 ],
 "metadata": {
  "kernelspec": {
   "display_name": "Python 3 (ipykernel)",
   "language": "python",
   "name": "python3"
  },
  "language_info": {
   "codemirror_mode": {
    "name": "ipython",
    "version": 3
   },
   "file_extension": ".py",
   "mimetype": "text/x-python",
   "name": "python",
   "nbconvert_exporter": "python",
   "pygments_lexer": "ipython3",
   "version": "3.9.13"
  }
 },
 "nbformat": 4,
 "nbformat_minor": 5
}
